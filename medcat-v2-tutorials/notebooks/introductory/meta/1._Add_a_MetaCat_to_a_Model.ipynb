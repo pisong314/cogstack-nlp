{
 "cells": [
  {
   "cell_type": "markdown",
   "id": "80a47d9d",
   "metadata": {},
   "source": [
    "# Creating and adding a MetaCAT model to an existing MedCAT model\n",
    "\n",
    "In order to get useful meta annotations, we need a separate model to make those predictions.\n",
    "This tutorial will go through the steps to create and add a new `MetaCAT` model to an existing model pack.\n",
    "\n",
    "First, we will need to install meta-cat specific parts to MedCAT."
   ]
  },
  {
   "cell_type": "code",
   "execution_count": null,
   "id": "ea1f9e78",
   "metadata": {},
   "outputs": [
    {
     "name": "stdout",
     "output_type": "stream",
     "text": [
      "\u001b[33mDEPRECATION: git+https://github.com/CogStack/MedCAT2@v0.1.5#egg=medcat2[meta-cat] contains an egg fragment with a non-PEP 508 name. pip 25.1 will enforce this behaviour change. A possible replacement is to use the req @ url syntax, and remove the egg fragment. Discussion can be found at https://github.com/pypa/pip/issues/13157\u001b[0m\u001b[33m\n",
      "\u001b[0mCollecting medcat2 (from medcat2[meta-cat])\n",
      "  Cloning https://github.com/CogStack/MedCAT2 (to revision v0.1.5) to /private/var/folders/h4/sklqg_zx1dbbbx76m2__zb8h0000gn/T/pip-install-3997cju_/medcat2_64f531cab4c3488a88bf357d0c17bab7\n",
      "  Running command git clone --filter=blob:none --quiet https://github.com/CogStack/MedCAT2 /private/var/folders/h4/sklqg_zx1dbbbx76m2__zb8h0000gn/T/pip-install-3997cju_/medcat2_64f531cab4c3488a88bf357d0c17bab7\n",
      "  Running command git checkout -q b1fe0ec5dc88ad01fb8dfeede0cd3c9144ff1443\n",
      "  Resolved https://github.com/CogStack/MedCAT2 to commit b1fe0ec5dc88ad01fb8dfeede0cd3c9144ff1443\n",
      "  Installing build dependencies ... \u001b[?25ldone\n",
      "\u001b[?25h  Getting requirements to build wheel ... \u001b[?25ldone\n",
      "\u001b[?25h  Preparing metadata (pyproject.toml) ... \u001b[?25ldone\n",
      "\u001b[?25hRequirement already satisfied: numpy>2.0 in /Users/martratas/Documents/CogStack/.MedCAT.nosync/MedCATv2tutorials/.venv/lib/python3.10/site-packages (from medcat2->medcat2[meta-cat]) (2.2.3)\n",
      "Requirement already satisfied: dill in /Users/martratas/Documents/CogStack/.MedCAT.nosync/MedCATv2tutorials/.venv/lib/python3.10/site-packages (from medcat2->medcat2[meta-cat]) (0.3.9)\n",
      "Requirement already satisfied: pandas<3.0,>=2.2 in /Users/martratas/Documents/CogStack/.MedCAT.nosync/MedCATv2tutorials/.venv/lib/python3.10/site-packages (from medcat2->medcat2[meta-cat]) (2.2.3)\n",
      "Requirement already satisfied: tqdm<5.0,>=4.64 in /Users/martratas/Documents/CogStack/.MedCAT.nosync/MedCATv2tutorials/.venv/lib/python3.10/site-packages (from medcat2->medcat2[meta-cat]) (4.67.1)\n",
      "Requirement already satisfied: xxhash<4.0,>=3.5.0 in /Users/martratas/Documents/CogStack/.MedCAT.nosync/MedCATv2tutorials/.venv/lib/python3.10/site-packages (from medcat2->medcat2[meta-cat]) (3.5.0)\n",
      "Requirement already satisfied: pydantic>2.0 in /Users/martratas/Documents/CogStack/.MedCAT.nosync/MedCATv2tutorials/.venv/lib/python3.10/site-packages (from medcat2->medcat2[meta-cat]) (2.10.6)\n",
      "Requirement already satisfied: peft<1.0,>0.8.2 in /Users/martratas/Documents/CogStack/.MedCAT.nosync/MedCATv2tutorials/.venv/lib/python3.10/site-packages (from medcat2->medcat2[meta-cat]) (0.15.2)\n",
      "Requirement already satisfied: torch<3.0,>=2.4.0 in /Users/martratas/Documents/CogStack/.MedCAT.nosync/MedCATv2tutorials/.venv/lib/python3.10/site-packages (from medcat2->medcat2[meta-cat]) (2.6.0)\n",
      "Requirement already satisfied: scikit-learn<2.0,>=1.1.3 in /Users/martratas/Documents/CogStack/.MedCAT.nosync/MedCATv2tutorials/.venv/lib/python3.10/site-packages (from medcat2->medcat2[meta-cat]) (1.6.1)\n",
      "Requirement already satisfied: python-dateutil>=2.8.2 in /Users/martratas/Documents/CogStack/.MedCAT.nosync/MedCATv2tutorials/.venv/lib/python3.10/site-packages (from pandas<3.0,>=2.2->medcat2->medcat2[meta-cat]) (2.9.0.post0)\n",
      "Requirement already satisfied: pytz>=2020.1 in /Users/martratas/Documents/CogStack/.MedCAT.nosync/MedCATv2tutorials/.venv/lib/python3.10/site-packages (from pandas<3.0,>=2.2->medcat2->medcat2[meta-cat]) (2025.1)\n",
      "Requirement already satisfied: tzdata>=2022.7 in /Users/martratas/Documents/CogStack/.MedCAT.nosync/MedCATv2tutorials/.venv/lib/python3.10/site-packages (from pandas<3.0,>=2.2->medcat2->medcat2[meta-cat]) (2025.1)\n",
      "Requirement already satisfied: packaging>=20.0 in /Users/martratas/Documents/CogStack/.MedCAT.nosync/MedCATv2tutorials/.venv/lib/python3.10/site-packages (from peft<1.0,>0.8.2->medcat2->medcat2[meta-cat]) (24.2)\n",
      "Requirement already satisfied: psutil in /Users/martratas/Documents/CogStack/.MedCAT.nosync/MedCATv2tutorials/.venv/lib/python3.10/site-packages (from peft<1.0,>0.8.2->medcat2->medcat2[meta-cat]) (7.0.0)\n",
      "Requirement already satisfied: pyyaml in /Users/martratas/Documents/CogStack/.MedCAT.nosync/MedCATv2tutorials/.venv/lib/python3.10/site-packages (from peft<1.0,>0.8.2->medcat2->medcat2[meta-cat]) (6.0.2)\n",
      "Requirement already satisfied: transformers in /Users/martratas/Documents/CogStack/.MedCAT.nosync/MedCATv2tutorials/.venv/lib/python3.10/site-packages (from peft<1.0,>0.8.2->medcat2->medcat2[meta-cat]) (4.51.3)\n",
      "Requirement already satisfied: accelerate>=0.21.0 in /Users/martratas/Documents/CogStack/.MedCAT.nosync/MedCATv2tutorials/.venv/lib/python3.10/site-packages (from peft<1.0,>0.8.2->medcat2->medcat2[meta-cat]) (1.6.0)\n",
      "Requirement already satisfied: safetensors in /Users/martratas/Documents/CogStack/.MedCAT.nosync/MedCATv2tutorials/.venv/lib/python3.10/site-packages (from peft<1.0,>0.8.2->medcat2->medcat2[meta-cat]) (0.5.3)\n",
      "Requirement already satisfied: huggingface_hub>=0.25.0 in /Users/martratas/Documents/CogStack/.MedCAT.nosync/MedCATv2tutorials/.venv/lib/python3.10/site-packages (from peft<1.0,>0.8.2->medcat2->medcat2[meta-cat]) (0.30.2)\n",
      "Requirement already satisfied: annotated-types>=0.6.0 in /Users/martratas/Documents/CogStack/.MedCAT.nosync/MedCATv2tutorials/.venv/lib/python3.10/site-packages (from pydantic>2.0->medcat2->medcat2[meta-cat]) (0.7.0)\n",
      "Requirement already satisfied: pydantic-core==2.27.2 in /Users/martratas/Documents/CogStack/.MedCAT.nosync/MedCATv2tutorials/.venv/lib/python3.10/site-packages (from pydantic>2.0->medcat2->medcat2[meta-cat]) (2.27.2)\n",
      "Requirement already satisfied: typing-extensions>=4.12.2 in /Users/martratas/Documents/CogStack/.MedCAT.nosync/MedCATv2tutorials/.venv/lib/python3.10/site-packages (from pydantic>2.0->medcat2->medcat2[meta-cat]) (4.12.2)\n",
      "Requirement already satisfied: scipy>=1.6.0 in /Users/martratas/Documents/CogStack/.MedCAT.nosync/MedCATv2tutorials/.venv/lib/python3.10/site-packages (from scikit-learn<2.0,>=1.1.3->medcat2->medcat2[meta-cat]) (1.15.2)\n",
      "Requirement already satisfied: joblib>=1.2.0 in /Users/martratas/Documents/CogStack/.MedCAT.nosync/MedCATv2tutorials/.venv/lib/python3.10/site-packages (from scikit-learn<2.0,>=1.1.3->medcat2->medcat2[meta-cat]) (1.4.2)\n",
      "Requirement already satisfied: threadpoolctl>=3.1.0 in /Users/martratas/Documents/CogStack/.MedCAT.nosync/MedCATv2tutorials/.venv/lib/python3.10/site-packages (from scikit-learn<2.0,>=1.1.3->medcat2->medcat2[meta-cat]) (3.6.0)\n",
      "Requirement already satisfied: filelock in /Users/martratas/Documents/CogStack/.MedCAT.nosync/MedCATv2tutorials/.venv/lib/python3.10/site-packages (from torch<3.0,>=2.4.0->medcat2->medcat2[meta-cat]) (3.18.0)\n",
      "Requirement already satisfied: networkx in /Users/martratas/Documents/CogStack/.MedCAT.nosync/MedCATv2tutorials/.venv/lib/python3.10/site-packages (from torch<3.0,>=2.4.0->medcat2->medcat2[meta-cat]) (3.4.2)\n",
      "Requirement already satisfied: jinja2 in /Users/martratas/Documents/CogStack/.MedCAT.nosync/MedCATv2tutorials/.venv/lib/python3.10/site-packages (from torch<3.0,>=2.4.0->medcat2->medcat2[meta-cat]) (3.1.6)\n",
      "Requirement already satisfied: fsspec in /Users/martratas/Documents/CogStack/.MedCAT.nosync/MedCATv2tutorials/.venv/lib/python3.10/site-packages (from torch<3.0,>=2.4.0->medcat2->medcat2[meta-cat]) (2025.3.2)\n",
      "Requirement already satisfied: sympy==1.13.1 in /Users/martratas/Documents/CogStack/.MedCAT.nosync/MedCATv2tutorials/.venv/lib/python3.10/site-packages (from torch<3.0,>=2.4.0->medcat2->medcat2[meta-cat]) (1.13.1)\n",
      "Requirement already satisfied: mpmath<1.4,>=1.1.0 in /Users/martratas/Documents/CogStack/.MedCAT.nosync/MedCATv2tutorials/.venv/lib/python3.10/site-packages (from sympy==1.13.1->torch<3.0,>=2.4.0->medcat2->medcat2[meta-cat]) (1.3.0)\n",
      "Requirement already satisfied: requests in /Users/martratas/Documents/CogStack/.MedCAT.nosync/MedCATv2tutorials/.venv/lib/python3.10/site-packages (from huggingface_hub>=0.25.0->peft<1.0,>0.8.2->medcat2->medcat2[meta-cat]) (2.32.3)\n",
      "Requirement already satisfied: six>=1.5 in /Users/martratas/Documents/CogStack/.MedCAT.nosync/MedCATv2tutorials/.venv/lib/python3.10/site-packages (from python-dateutil>=2.8.2->pandas<3.0,>=2.2->medcat2->medcat2[meta-cat]) (1.17.0)\n",
      "Requirement already satisfied: MarkupSafe>=2.0 in /Users/martratas/Documents/CogStack/.MedCAT.nosync/MedCATv2tutorials/.venv/lib/python3.10/site-packages (from jinja2->torch<3.0,>=2.4.0->medcat2->medcat2[meta-cat]) (3.0.2)\n",
      "Requirement already satisfied: regex!=2019.12.17 in /Users/martratas/Documents/CogStack/.MedCAT.nosync/MedCATv2tutorials/.venv/lib/python3.10/site-packages (from transformers->peft<1.0,>0.8.2->medcat2->medcat2[meta-cat]) (2024.11.6)\n",
      "Requirement already satisfied: tokenizers<0.22,>=0.21 in /Users/martratas/Documents/CogStack/.MedCAT.nosync/MedCATv2tutorials/.venv/lib/python3.10/site-packages (from transformers->peft<1.0,>0.8.2->medcat2->medcat2[meta-cat]) (0.21.1)\n",
      "Requirement already satisfied: charset-normalizer<4,>=2 in /Users/martratas/Documents/CogStack/.MedCAT.nosync/MedCATv2tutorials/.venv/lib/python3.10/site-packages (from requests->huggingface_hub>=0.25.0->peft<1.0,>0.8.2->medcat2->medcat2[meta-cat]) (3.4.1)\n",
      "Requirement already satisfied: idna<4,>=2.5 in /Users/martratas/Documents/CogStack/.MedCAT.nosync/MedCATv2tutorials/.venv/lib/python3.10/site-packages (from requests->huggingface_hub>=0.25.0->peft<1.0,>0.8.2->medcat2->medcat2[meta-cat]) (3.10)\n",
      "Requirement already satisfied: urllib3<3,>=1.21.1 in /Users/martratas/Documents/CogStack/.MedCAT.nosync/MedCATv2tutorials/.venv/lib/python3.10/site-packages (from requests->huggingface_hub>=0.25.0->peft<1.0,>0.8.2->medcat2->medcat2[meta-cat]) (2.4.0)\n",
      "Requirement already satisfied: certifi>=2017.4.17 in /Users/martratas/Documents/CogStack/.MedCAT.nosync/MedCATv2tutorials/.venv/lib/python3.10/site-packages (from requests->huggingface_hub>=0.25.0->peft<1.0,>0.8.2->medcat2->medcat2[meta-cat]) (2025.1.31)\n"
     ]
    }
   ],
   "source": [
    "! pip install medcat[meta-cat]~=2.1.0 # NOTE: VERSION-STRING"
   ]
  },
  {
   "cell_type": "markdown",
   "id": "dc5d0836",
   "metadata": {},
   "source": [
    "We will assume that ou have ran through the creation of the model in the `basic` category.\n",
    "And we will attempt to load the model you have saved there.\n",
    "However, if you wish to do this with your own model, feel free to change the path as needed."
   ]
  },
  {
   "cell_type": "code",
   "execution_count": null,
   "id": "feefc4ff",
   "metadata": {},
   "outputs": [
    {
     "name": "stderr",
     "output_type": "stream",
     "text": [
      "/Users/martratas/Documents/CogStack/.MedCAT.nosync/MedCATv2tutorials/.venv/lib/python3.10/site-packages/tqdm/auto.py:21: TqdmWarning: IProgress not found. Please update jupyter and ipywidgets. See https://ipywidgets.readthedocs.io/en/stable/user_install.html\n",
      "  from .autonotebook import tqdm as notebook_tqdm\n"
     ]
    }
   ],
   "source": [
    "import os\n",
    "from medcat.cat import CAT\n",
    "from medcat.components.addons.meta_cat.meta_cat import MetaCATAddon\n",
    "from medcat.config.config_meta_cat import ConfigMetaCAT\n",
    "\n",
    "BASIC_MODELS_FOLDER = os.path.join(\"..\", \"basic\", \"models\")\n",
    "MODEL_NAME = \"sup_trained_model.zip\"\n",
    "MODEL_PATH = os.path.join(BASIC_MODELS_FOLDER, MODEL_NAME)\n",
    "\n",
    "cat = CAT.load_model_pack(MODEL_PATH)"
   ]
  },
  {
   "cell_type": "markdown",
   "id": "5f66a584",
   "metadata": {},
   "source": [
    "We have a model, we need to create a new MetaCAT and add it"
   ]
  },
  {
   "cell_type": "code",
   "execution_count": null,
   "id": "034a9108",
   "metadata": {},
   "outputs": [
    {
     "name": "stdout",
     "output_type": "stream",
     "text": [
      "\n",
      "\n",
      "\n",
      "Addon configs: [ConfigMetaCAT(comp_name='default', init_args=[], init_kwargs={}, general=General(device='cpu', disable_component_lock=False, seed=13, description='No description', category_name='Status', category_value2id={'False': 2, 'Hypothetical': 1, 'True': 0}, vocab_size=15902, lowercase=True, cntx_left=15, cntx_right=10, replace_center=None, batch_size_eval=5000, tokenizer_name='bbpe', save_and_reuse_tokens=False, pipe_batch_size_in_chars=20000000, span_group=None, serialiser=<AvailableSerialisers.dill: 1>), model=Model(model_name='lstm', model_variant='bert-base-uncased', model_freeze_layers=True, num_layers=2, input_size=300, hidden_size=300, dropout=0.5, phase_number=0, category_undersample='', model_architecture_config={'fc2': True, 'fc3': False, 'lr_scheduler': True}, num_directions=2, nclasses=3, padding_idx=15901, emb_grad=True, ignore_cpos=False), train=Train(batch_size=100, nepochs=50, lr=0.001, test_size=0.1, shuffle_data=True, class_weights=None, compute_class_weights=False, score_average='weighted', prerequisites={}, cui_filter=None, auto_save_model=True, last_train_on=None, metric={'base': 'weighted avg', 'score': 'f1-score'}, loss_funct='cross_entropy', gamma=2))]\n",
      "Addons [<medcat2.components.addons.meta_cat.meta_cat.MetaCATAddon object at 0x1071556c0>]\n"
     ]
    }
   ],
   "source": [
    "# create config\n",
    "config = ConfigMetaCAT()\n",
    "# add categoryy name\n",
    "config.general.category_name = 'Status'\n",
    "config.model.nclasses = 3\n",
    "config.general.category_value2id = {'False': 2, 'Hypothetical': 1, 'True': 0}\n",
    "\n",
    "data_path = os.path.join(\"in_data\", \"tok_data.txt\")\n",
    "\n",
    "# create MetaCAT\n",
    "# TODO: remove need for call to protected attribute\n",
    "mc = MetaCATAddon.create_new(\n",
    "    config, cat._pipeline.tokenizer,\n",
    "    tknzer_preprocessor=lambda tknzer: tknzer.hf_tokenizers.train(data_path))\n",
    "\n",
    "# add MetaCAT\n",
    "if cat.config.components.addons:\n",
    "    # avoid adding multiple on multiple runs\n",
    "    print(\"Already had an addon, so not adding a 2nd (probably identical) one\")\n",
    "else:\n",
    "    cat.add_addon(mc)\n",
    "print(\"Addon configs:\", cat.config.components.addons)\n",
    "print(\"Addons\", cat._pipeline._addons)"
   ]
  },
  {
   "cell_type": "markdown",
   "id": "7cc768ad",
   "metadata": {},
   "source": [
    "Now we have a MetaCAT added.\n",
    "Let's see if we can see anything in the output."
   ]
  },
  {
   "cell_type": "code",
   "execution_count": 6,
   "id": "51d1620b",
   "metadata": {},
   "outputs": [
    {
     "name": "stdout",
     "output_type": "stream",
     "text": [
      "Expected True\n",
      "{0: {'acc': 0.99,\n",
      "     'context_center': [],\n",
      "     'context_left': [],\n",
      "     'context_right': [],\n",
      "     'context_similarity': 0.99,\n",
      "     'cui': '44132006',\n",
      "     'detected_name': 'abscess',\n",
      "     'end': 45,\n",
      "     'id': 0,\n",
      "     'meta_anns': {'Status': {'confidence': 0.34161797165870667,\n",
      "                              'name': 'Status',\n",
      "                              'value': 'True'},\n",
      "                   (5, 5): defaultdict(<function Entity.register_addon_path.<locals>.<lambda> at 0x138e1e4d0>,\n",
      "                                       {'Status': {'confidence': 0.34161797165870667,\n",
      "                                                   'name': 'Status',\n",
      "                                                   'value': 'True'},\n",
      "                                        (5, 5): <Recursion on defaultdict with id=5239348400>,\n",
      "                                        (6, 6): <Recursion on defaultdict with id=5239348400>}),\n",
      "                   (6, 6): defaultdict(<function Entity.register_addon_path.<locals>.<lambda> at 0x138e1e4d0>,\n",
      "                                       {'Status': {'confidence': 0.34161797165870667,\n",
      "                                                   'name': 'Status',\n",
      "                                                   'value': 'True'},\n",
      "                                        (5, 5): <Recursion on defaultdict with id=5239348400>,\n",
      "                                        (6, 6): <Recursion on defaultdict with id=5239348400>})},\n",
      "     'pretty_name': 'Abscess',\n",
      "     'source_value': 'abscess',\n",
      "     'start': 38,\n",
      "     'type_ids': []}}\n",
      "Expected False\n",
      "{0: {'acc': np.float64(0.7304052509857548),\n",
      "     'context_center': [],\n",
      "     'context_left': [],\n",
      "     'context_right': [],\n",
      "     'context_similarity': np.float64(0.7304052509857548),\n",
      "     'cui': '44132006',\n",
      "     'detected_name': 'abscess',\n",
      "     'end': 47,\n",
      "     'id': 0,\n",
      "     'meta_anns': {'Status': {'confidence': 0.34792202711105347,\n",
      "                              'name': 'Status',\n",
      "                              'value': 'Hypothetical'},\n",
      "                   (5, 5): defaultdict(<function Entity.register_addon_path.<locals>.<lambda> at 0x138e1e4d0>,\n",
      "                                       {'Status': {'confidence': 0.34792202711105347,\n",
      "                                                   'name': 'Status',\n",
      "                                                   'value': 'Hypothetical'},\n",
      "                                        (5, 5): <Recursion on defaultdict with id=5239348400>,\n",
      "                                        (6, 6): <Recursion on defaultdict with id=5239348400>,\n",
      "                                        (8, 8): <Recursion on defaultdict with id=5239348400>}),\n",
      "                   (6, 6): defaultdict(<function Entity.register_addon_path.<locals>.<lambda> at 0x138e1e4d0>,\n",
      "                                       {'Status': {'confidence': 0.34792202711105347,\n",
      "                                                   'name': 'Status',\n",
      "                                                   'value': 'Hypothetical'},\n",
      "                                        (5, 5): <Recursion on defaultdict with id=5239348400>,\n",
      "                                        (6, 6): <Recursion on defaultdict with id=5239348400>,\n",
      "                                        (8, 8): <Recursion on defaultdict with id=5239348400>}),\n",
      "                   (8, 8): defaultdict(<function Entity.register_addon_path.<locals>.<lambda> at 0x138e1e4d0>,\n",
      "                                       {'Status': {'confidence': 0.34792202711105347,\n",
      "                                                   'name': 'Status',\n",
      "                                                   'value': 'Hypothetical'},\n",
      "                                        (5, 5): <Recursion on defaultdict with id=5239348400>,\n",
      "                                        (6, 6): <Recursion on defaultdict with id=5239348400>,\n",
      "                                        (8, 8): <Recursion on defaultdict with id=5239348400>})},\n",
      "     'pretty_name': 'Abscess',\n",
      "     'source_value': 'abscess',\n",
      "     'start': 40,\n",
      "     'type_ids': []}}\n",
      "Expected Hypothetical\n",
      "{0: {'acc': np.float64(0.8999993903309238),\n",
      "     'context_center': [],\n",
      "     'context_left': [],\n",
      "     'context_right': [],\n",
      "     'context_similarity': np.float64(0.8999993903309238),\n",
      "     'cui': '44132006',\n",
      "     'detected_name': 'abscess',\n",
      "     'end': 106,\n",
      "     'id': 0,\n",
      "     'meta_anns': {'Status': {'confidence': 0.34423619508743286,\n",
      "                              'name': 'Status',\n",
      "                              'value': 'True'},\n",
      "                   (5, 5): defaultdict(<function Entity.register_addon_path.<locals>.<lambda> at 0x138e1e4d0>,\n",
      "                                       {'Status': {'confidence': 0.34423619508743286,\n",
      "                                                   'name': 'Status',\n",
      "                                                   'value': 'True'},\n",
      "                                        (5, 5): <Recursion on defaultdict with id=5239348400>,\n",
      "                                        (6, 6): <Recursion on defaultdict with id=5239348400>,\n",
      "                                        (8, 8): <Recursion on defaultdict with id=5239348400>,\n",
      "                                        (17, 17): <Recursion on defaultdict with id=5239348400>}),\n",
      "                   (6, 6): defaultdict(<function Entity.register_addon_path.<locals>.<lambda> at 0x138e1e4d0>,\n",
      "                                       {'Status': {'confidence': 0.34423619508743286,\n",
      "                                                   'name': 'Status',\n",
      "                                                   'value': 'True'},\n",
      "                                        (5, 5): <Recursion on defaultdict with id=5239348400>,\n",
      "                                        (6, 6): <Recursion on defaultdict with id=5239348400>,\n",
      "                                        (8, 8): <Recursion on defaultdict with id=5239348400>,\n",
      "                                        (17, 17): <Recursion on defaultdict with id=5239348400>}),\n",
      "                   (8, 8): defaultdict(<function Entity.register_addon_path.<locals>.<lambda> at 0x138e1e4d0>,\n",
      "                                       {'Status': {'confidence': 0.34423619508743286,\n",
      "                                                   'name': 'Status',\n",
      "                                                   'value': 'True'},\n",
      "                                        (5, 5): <Recursion on defaultdict with id=5239348400>,\n",
      "                                        (6, 6): <Recursion on defaultdict with id=5239348400>,\n",
      "                                        (8, 8): <Recursion on defaultdict with id=5239348400>,\n",
      "                                        (17, 17): <Recursion on defaultdict with id=5239348400>}),\n",
      "                   (17, 17): defaultdict(<function Entity.register_addon_path.<locals>.<lambda> at 0x138e1e4d0>,\n",
      "                                         {'Status': {'confidence': 0.34423619508743286,\n",
      "                                                     'name': 'Status',\n",
      "                                                     'value': 'True'},\n",
      "                                          (5, 5): <Recursion on defaultdict with id=5239348400>,\n",
      "                                          (6, 6): <Recursion on defaultdict with id=5239348400>,\n",
      "                                          (8, 8): <Recursion on defaultdict with id=5239348400>,\n",
      "                                          (17, 17): <Recursion on defaultdict with id=5239348400>})},\n",
      "     'pretty_name': 'Abscess',\n",
      "     'source_value': 'abscess',\n",
      "     'start': 99,\n",
      "     'type_ids': []}}\n"
     ]
    }
   ],
   "source": [
    "from pprint import pprint\n",
    "text_true = \"The patient presents with a fluctuant abscess on the right thigh, consistent with a localized staphylococcal infection.\"\n",
    "text_false = \"On examination, there is no evidence of abscess or cellulitis around the wound site.\"\n",
    "text_hypothetical = \"If the swelling persists despite antibiotics, we should consider imaging to rule out a deep-seated abscess.\"\n",
    "for text, expect in [(text_true, \"True\"), (text_false, \"False\"), (text_hypothetical, \"Hypothetical\")]:\n",
    "    ents = cat.get_entities(text)[\"entities\"]\n",
    "    print(\"Expected\", expect)\n",
    "    pprint(ents)"
   ]
  },
  {
   "cell_type": "markdown",
   "id": "68c1bac1",
   "metadata": {},
   "source": [
    "As we can see, this doesn't yet work too well.\n",
    "That's because our examples are extremely limited."
   ]
  }
 ],
 "metadata": {
  "kernelspec": {
   "display_name": ".venv_v2_tut",
   "language": "python",
   "name": "python3"
  },
  "language_info": {
   "codemirror_mode": {
    "name": "ipython",
    "version": 3
   },
   "file_extension": ".py",
   "mimetype": "text/x-python",
   "name": "python",
   "nbconvert_exporter": "python",
   "pygments_lexer": "ipython3",
   "version": "3.11.12"
  }
 },
 "nbformat": 4,
 "nbformat_minor": 5
}
