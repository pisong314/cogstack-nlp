{
    "cells": [
        {
            "cell_type": "markdown",
            "metadata": {},
            "source": [
                "# Supervised training on a model\n",
                "\n",
                "Not everything can be learned in a self-supervised manner.\n",
                "As a trivial exmaple, if there were two concepts - both only known by the same name, the unsupervised training approach won't be able to distinguish between them.\n",
                "\n",
                "For instance `abscess` could regfer either to a body structure (`44132006`) or a clinical finding (`128477000`) depending on conext.\n",
                "And if there's no unique name that refers to either term, they cannot be disambiguated using only self-supervised methods.\n",
                "In reality, these terms can also be known by names that are distinct from oneanother (e.g `abscess morphology` for `44132006` and `abscess disorder` for `128477000`).\n",
                "But even this would require training data that actually uses these distinct terms.\n",
                "\n",
                "In any case, supervised training also has the added benefit of having a humans curate the names and linked concepts.\n",
                "While this may be achieved in many different ways, when using MedCAT, we like to use a tool called [MedCATtrainer](https://github.com/CogStack/cogstack-nlp/tree/main/medcat-trainer).\n",
                "\n",
                "First things first - we load the existing model."
            ]
        },
        {
            "cell_type": "code",
            "execution_count": null,
            "metadata": {},
            "outputs": [],
            "source": [
                "import os\n",
                "\n",
                "from medcat.cat import CAT\n",
                "\n",
                "model_path = os.path.join(\"models\", \"unsup_trained_model.zip\")\n",
                "\n",
                "cat = CAT.load_model_pack(model_path)"
            ]
        },
        {
            "cell_type": "markdown",
            "metadata": {},
            "source": [
                "Now that we have the model, we add the two new  concepts.\n",
                "We employ the help of the `CDBMaker` again.\n",
                "Though this is not strictly speaking necessary this time around since the `CAT` instance has created its own tokenizer anyway."
            ]
        },
        {
            "cell_type": "code",
            "execution_count": null,
            "metadata": {},
            "outputs": [
                {
                    "name": "stdout",
                    "output_type": "stream",
                    "text": [
                        "DF:\n",
                        "       name        cui\n",
                        "0  abscess   44132006\n",
                        "1  abscess  128477000\n",
                        "CUIs: [('73211009', 'Diabetes Mellitus Diagnosed'), ('396230008', 'Wagner Unverricht Syndrome'), ('44132006', 'Abscess'), ('128477000', 'Abscess')]\n"
                    ]
                }
            ],
            "source": [
                "import pandas as pd\n",
                "from medcat.model_creation.cdb_maker import CDBMaker\n",
                "\n",
                "cdb_maker = CDBMaker(cat.config, cat.cdb)\n",
                "\n",
                "df = pd.DataFrame({\"name\": 'abscess', \"cui\": ['44132006', '128477000']})\n",
                "print(\"DF:\\n\", df)\n",
                "\n",
                "cdb_maker.prepare_csvs([df])\n",
                "\n",
                "print(\"CUIs:\", [(cui, cat.cdb.get_name(cui)) for cui in cat.cdb.cui2info.keys()])"
            ]
        },
        {
            "cell_type": "markdown",
            "metadata": {},
            "source": [
                "Now we have the concepts that we're trying to disambiguate.\n",
                "All we need now is a dataset where a human has gone through the mentions and annotated them for the correct type.\n",
                "And then we can use that for supervised training.\n",
                "\n",
                "First, we will verify that we cannot detect abscess before training."
            ]
        },
        {
            "cell_type": "code",
            "execution_count": 3,
            "metadata": {},
            "outputs": [
                {
                    "name": "stdout",
                    "output_type": "stream",
                    "text": [
                        "0 : {}\n",
                        "1 : {}\n"
                    ]
                }
            ],
            "source": [
                "abscess_text_morph = \"\"\"Histopathology reveals a well-encapsulated abscess with central necrosis and neutrophilic infiltration.\"\"\"\n",
                "abscess_text_disorder = \"\"\"An abscess is a disorder, which is a clinical condition characterized by the formation of a painful and inflamed mass containing purulent material\"\"\"\n",
                "\n",
                "# for reuse later\n",
                "def find_texts():\n",
                "    for text_num, text in enumerate([abscess_text_morph, abscess_text_disorder]):\n",
                "        ents = cat.get_entities(text)['entities']\n",
                "        print(text_num, \":\", ents)\n",
                "find_texts()\n"
            ]
        },
        {
            "cell_type": "markdown",
            "metadata": {},
            "source": [
                "Now that it's clear that we can't, we're sure to need some supervised training.\n",
                "Let's then do that."
            ]
        },
        {
            "cell_type": "code",
            "execution_count": 4,
            "metadata": {},
            "outputs": [
                {
                    "name": "stderr",
                    "output_type": "stream",
                    "text": [
                        "Epoch:   0%|          | 0/1 [00:00<?, ?it/s]"
                    ]
                },
                {
                    "name": "stderr",
                    "output_type": "stream",
                    "text": [
                        "\n",
                        "\u001b[A\n",
                        "                                            "
                    ]
                },
                {
                    "name": "stdout",
                    "output_type": "stream",
                    "text": [
                        "Trained concepts: [('73211009', 'Diabetes Mellitus Diagnosed', 2), ('396230008', 'Wagner Unverricht Syndrome', 1), ('44132006', 'Abscess', 2), ('128477000', 'Abscesses', 2)]\n"
                    ]
                },
                {
                    "name": "stderr",
                    "output_type": "stream",
                    "text": [
                        "\r"
                    ]
                }
            ],
            "source": [
                "import json\n",
                "# NOTE: The instances within the text were annotated by a layman and may not be clinically accurate.\n",
                "#       The dataset in question serves only as an example for the sake of the tutorial.\n",
                "mct_export_path = os.path.join(\"in_data\", \"MCT_export_abscess.json\")\n",
                "\n",
                "with open(mct_export_path) as f:\n",
                "    mct_export = json.load(f)\n",
                "\n",
                "cat.trainer.train_supervised_raw(mct_export, use_filters=True)\n",
                "\n",
                "print(\"Trained concepts:\",\n",
                "      [(ci['cui'], cat.cdb.get_name(ci['cui']), ci['count_train']) for ci in cat.cdb.cui2info.values() if ci['count_train']])"
            ]
        },
        {
            "cell_type": "markdown",
            "metadata": {},
            "source": [
                "What about now? Can we differentiate between the two concepts in text?"
            ]
        },
        {
            "cell_type": "code",
            "execution_count": 5,
            "metadata": {},
            "outputs": [
                {
                    "name": "stdout",
                    "output_type": "stream",
                    "text": [
                        "0 : {0: {'pretty_name': 'Abscess', 'cui': '44132006', 'type_ids': [], 'source_value': 'abscess', 'detected_name': 'abscess', 'acc': 0.99, 'context_similarity': 0.99, 'start': 43, 'end': 50, 'id': 0, 'meta_anns': {}, 'context_left': [], 'context_center': [], 'context_right': []}}\n",
                        "1 : {0: {'pretty_name': 'Abscesses', 'cui': '128477000', 'type_ids': [], 'source_value': 'abscess', 'detected_name': 'abscess', 'acc': np.float64(0.4624653188952008), 'context_similarity': np.float64(0.4624653188952008), 'start': 3, 'end': 10, 'id': 0, 'meta_anns': {}, 'context_left': [], 'context_center': [], 'context_right': []}}\n"
                    ]
                }
            ],
            "source": [
                "find_texts()"
            ]
        },
        {
            "cell_type": "markdown",
            "metadata": {},
            "source": [
                "## Save the changed model\n",
                "\n",
                "We have now fine-tuned the model.\n",
                "So we may want to save its state again."
            ]
        },
        {
            "cell_type": "code",
            "execution_count": null,
            "metadata": {},
            "outputs": [
                {
                    "data": {
                        "text/plain": [
                            "'models/sup_trained_model'"
                        ]
                    },
                    "execution_count": 6,
                    "metadata": {},
                    "output_type": "execute_result"
                }
            ],
            "source": [
                "new_model_folder, new_model_name = \"models\", \"sup_trained_model\"\n",
                "cat.save_model_pack(new_model_folder, pack_name=new_model_name, add_hash_to_pack_name=False)\n"
            ]
        }
    ],
    "metadata": {
        "kernelspec": {
            "display_name": ".venv",
            "language": "python",
            "name": "python3"
        },
        "language_info": {
            "codemirror_mode": {
                "name": "ipython",
                "version": 3
            },
            "file_extension": ".py",
            "mimetype": "text/x-python",
            "name": "python",
            "nbconvert_exporter": "python",
            "pygments_lexer": "ipython3",
            "version": "3.10.13"
        }
    },
    "nbformat": 4,
    "nbformat_minor": 2
}